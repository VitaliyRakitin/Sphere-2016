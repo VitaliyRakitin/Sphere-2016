{
 "cells": [
  {
   "cell_type": "markdown",
   "metadata": {},
   "source": [
    "# Домашнее задание 5. Линейные модели"
   ]
  },
  {
   "cell_type": "markdown",
   "metadata": {},
   "source": [
    "*** Автор --- Ракитин Виталий, BD-11 ***"
   ]
  },
  {
   "cell_type": "code",
   "execution_count": 1,
   "metadata": {
    "collapsed": false
   },
   "outputs": [
    {
     "name": "stdout",
     "output_type": "stream",
     "text": [
      "Populating the interactive namespace from numpy and matplotlib\n"
     ]
    }
   ],
   "source": [
    "import random as pr\n",
    "import numpy as np\n",
    "import pandas as pd\n",
    "import matplotlib.pylab as pl\n",
    "import sklearn.cross_validation as cv\n",
    "import sklearn.metrics as sm\n",
    "import math\n",
    "# Plotting config\n",
    "%pylab inline"
   ]
  },
  {
   "cell_type": "markdown",
   "metadata": {},
   "source": [
    "Зачитываем результат 4 домашки"
   ]
  },
  {
   "cell_type": "code",
   "execution_count": 2,
   "metadata": {
    "collapsed": false,
    "scrolled": true
   },
   "outputs": [],
   "source": [
    "data = np.load(\"files/out_4.dat.npz\")\n",
    "users = data[\"users\"]\n",
    "X_dataset = data[\"data\"].reshape(1,)[0]"
   ]
  },
  {
   "cell_type": "markdown",
   "metadata": {},
   "source": [
    "Зачитываем категории пользователей"
   ]
  },
  {
   "cell_type": "code",
   "execution_count": 3,
   "metadata": {
    "collapsed": false
   },
   "outputs": [],
   "source": [
    "#TRAINING_SET_URL = \"twitter_train.txt\"\n",
    "#EXAMPLE_SET_URL = \"twitter_example.txt\"\n",
    "TRAINING_SET_URL = \"train.csv\"\n",
    "EXAMPLE_SET_URL = \"test_submition.csv\"\n",
    "df_users_train = pd.read_csv(TRAINING_SET_URL, sep=\",\", header=0)\n",
    "df_users_ex = pd.read_csv(EXAMPLE_SET_URL, sep=\",\", header=0)\n",
    "df_users_ex['cls'] = None\n",
    "df_users = pd.concat([df_users_train, df_users_ex])"
   ]
  },
  {
   "cell_type": "markdown",
   "metadata": {},
   "source": [
    "Модель строим для пользователей из twitter_train, нужно выбрать этих пользователей из матрицы из 4 ДЗ:"
   ]
  },
  {
   "cell_type": "code",
   "execution_count": 4,
   "metadata": {
    "collapsed": false,
    "scrolled": true
   },
   "outputs": [],
   "source": [
    "# TODO check this code\n",
    "train_users = df_users_train[\"uid\"].values\n",
    "ix = np.in1d(users, train_users).reshape(users.shape)\n",
    "X = X_dataset[np.where(ix)]"
   ]
  },
  {
   "cell_type": "markdown",
   "metadata": {},
   "source": [
    "Формируем целевую переменную: Делаем join списка пользователей из ДЗ4 с обучающей выборкой."
   ]
  },
  {
   "cell_type": "code",
   "execution_count": 5,
   "metadata": {
    "collapsed": false
   },
   "outputs": [
    {
     "name": "stdout",
     "output_type": "stream",
     "text": [
      "Resulting training set: (7199x222020) feature matrix, 7199 target vector\n"
     ]
    }
   ],
   "source": [
    "Y = df_users_train['cls'].values\n",
    "print \"Resulting training set: (%dx%d) feature matrix, %d target vector\" % (X.shape[0], X.shape[1], Y.shape[0])"
   ]
  },
  {
   "cell_type": "markdown",
   "metadata": {},
   "source": [
    "Чтобы исследовать, как ведут себя признаки, построим распределение количества ненулевых признаков у пользователей, чтобы убедиться, что он удовлетворяет закону Ципфа. Для этого построим гистограмму в логарифмических осях. [Подсказка](http://anokhin.github.io/img/sf1.png)"
   ]
  },
  {
   "cell_type": "code",
   "execution_count": 6,
   "metadata": {
    "collapsed": false
   },
   "outputs": [
    {
     "data": {
      "image/png": "[encoded data removed]",
      "text/plain": [
       "<matplotlib.figure.Figure at 0x116adaed0>"
      ]
     },
     "metadata": {},
     "output_type": "display_data"
    }
   ],
   "source": [
    "def draw_log_hist(x):\n",
    "    \"\"\"Draw tokens histogram in log scales\"\"\"\n",
    "    # Your code here\n",
    "    # нас интересует распределение признаков,имеющих ненулевое значение, по пользователям,\n",
    "    # поэтому заменим значение каждого признака у каждого пользователя на 1, если он есть,\n",
    "    # и на 0, если его нет. Так как все значения >= 0, то можно заменить на значение знака,\n",
    "    # это будет эквивалентно\n",
    "    word_frequency = np.array(x.sign().sum(0))[0]\n",
    "\n",
    "    prev_fr = -1\n",
    "    count = -1\n",
    "    x1 = []\n",
    "    y1 = []\n",
    "    for word_fr in np.sort(word_frequency)[::-1]:\n",
    "        if word_fr == prev_fr: \n",
    "            y1[count] += 1\n",
    "        elif word_fr != 0:\n",
    "            x1.append(word_fr)\n",
    "            y1.append(1)\n",
    "            prev_fr = word_fr\n",
    "            count += 1\n",
    "            \n",
    "    pl.xscale(\"log\")\n",
    "    pl.yscale(\"log\")\n",
    "    pl.scatter(x1,y1,s=7, edgecolor='blue')\n",
    "    \n",
    "    return word_frequency\n",
    "features_counts = draw_log_hist(X)"
   ]
  },
  {
   "cell_type": "markdown",
   "metadata": {},
   "source": [
    "Проведем отбор признаков. В самом простом случае просто удаляем признаки, имеющие ненулевое значение у менее, чем 100 пользователей."
   ]
  },
  {
   "cell_type": "code",
   "execution_count": 7,
   "metadata": {
    "collapsed": false
   },
   "outputs": [],
   "source": [
    "X1 = X.tocsc()[:, features_counts > 100].toarray()"
   ]
  },
  {
   "cell_type": "markdown",
   "metadata": {},
   "source": [
    "Вариант задания генерируется на основании вашего ника в техносфере."
   ]
  },
  {
   "cell_type": "code",
   "execution_count": 8,
   "metadata": {
    "collapsed": false
   },
   "outputs": [
    {
     "name": "stdout",
     "output_type": "stream",
     "text": [
      "My homework 5 algorithm is: Logistic regression with L2 regularization optimized by Newton method\n"
     ]
    }
   ],
   "source": [
    "USER_NAME = \"v.rakitin\"\n",
    "OPTIMIZATION_ALGORITHMS = [\"stochastic gradient descent\", \"Newton method\"]\n",
    "REGULARIZATIONS = [\"L1\", \"L2\"]\n",
    "\n",
    "print \"My homework 5 algorithm is: Logistic regression with %s regularization optimized by %s\" % (\n",
    "    REGULARIZATIONS[hash(USER_NAME) % 2],\n",
    "    OPTIMIZATION_ALGORITHMS[hash(USER_NAME[::-1]) % 2])"
   ]
  },
  {
   "cell_type": "markdown",
   "metadata": {},
   "source": [
    "Для начала давайте разберёмся, что вообще это за зверь, и с чем его едят.\n",
    "\n",
    "У нас есть тренировачный набор данных $N = x_1, \\dots, x_m$, где $x_i = x^1,\\dots, x^k$, а так же значения целевой функции $y = f(x)$. В нашем случае она может быть равна 0 или 1. \n",
    "\n",
    "Мы хотим предсказать вероятность того, что новый вектор параметров $x_j$ будет лежать в классе 1 (или 0), а именно непрерывную переменную со значениями на отрезке [0,1] при любых значениях независимых переменных. Для этого очень удобно использовать логистическая функцию (сигмоиду):"
   ]
  },
  {
   "cell_type": "markdown",
   "metadata": {},
   "source": [
    "$$p(x_j, \\theta) = p(y_j = 1) = \\frac{1}{1+e^{-x_j \\cdot \\theta}}\\\\\n",
    "\\theta = \\{\\theta_1, \\cdot, \\theta_k\\} $$"
   ]
  },
  {
   "cell_type": "markdown",
   "metadata": {},
   "source": [
    "где $\\theta$ --- параметры регрессии.\n",
    "\n",
    "Используем метод максимального правдоподобия, дабы найти значения данного параметра. \n",
    "\n",
    "Пусть $P(y_j|x_j,\\theta)$ --- вероятность, что при данном значении вектора параметров $x_j$, наши данные лежат в $y_j$ классе. Тогда функция правдоподобия имеет вид:"
   ]
  },
  {
   "cell_type": "markdown",
   "metadata": {},
   "source": [
    "$$ L(y,x,\\theta) = \\Pi_j P\\left(y_j\\big|x_j,\\theta\\right) \\to max\\\\\n",
    " L^* = ln(L) = \\sum\\limits_{j = 0}^m ln \\left(P\\left(y_j\\big|x_j,\\theta\\right)\\right) \\to max\\\\\n",
    " L^* = \\sum\\limits_{y_j = 1} ln \\left(p \\left(x_j,\\theta \\right)\\right) + \\sum\\limits_{y_j = 0} ln \\left(p \\left(x_j,\\theta \\right)\\right) =\\\\= \\sum\\limits_{j = 0}^m \\left[y_j ln\\left(p \\left(x_j,\\theta \\right)\\right) + (1 - y_j)ln\\left(1 - p \\left(x_j,\\theta \\right)\\right) \\right] \\to max\\\\\n",
    " $$"
   ]
  },
  {
   "cell_type": "markdown",
   "metadata": {},
   "source": [
    "Немного преобразуем наш функционал, а так же добавим L2 регуляризацию:"
   ]
  },
  {
   "cell_type": "markdown",
   "metadata": {},
   "source": [
    "$$ L^{**} = -\\frac{1}{m}\\sum\\limits_{j = 0}^m \\left[y_j ln\\left(p \\left(x_j,\\theta \\right)\\right) + (1 - y_j)ln\\left(1 - p \\left(x_j,\\theta \\right)\\right) \\right] + \\frac{\\lambda}{2}||\\theta||^2 \\to min\\\\$$"
   ]
  },
  {
   "cell_type": "markdown",
   "metadata": {},
   "source": [
    "Посчитаем градиент (g) и гессиан (H) функции $L^{**}$:"
   ]
  },
  {
   "cell_type": "markdown",
   "metadata": {},
   "source": [
    "$$g = \\frac{1}{m}\\sum\\limits_{j = 0}^m \\left[p \\left(x_j,\\theta \\right) - y_i\\right] x_j + \\lambda\\theta = X^T (\\theta - y)\\\\\n",
    "H = \\frac{1}{m}\\sum\\limits_{j = 0}^m p \\left(x_j,\\theta \\right) \\cdot \\left(1 - p \\left(x_j,\\theta \\right)\\right) \\cdot x_j^Tx_j + \\lambda \\cdot Id = X^T S X+ \\lambda \\cdot Id \\\\\n",
    "S = diag \\left( p \\left(x_j,\\theta \\right) \\cdot \\left(1 - p \\left(x_j,\\theta \\right)\\right)\\right)\n",
    "$$"
   ]
  },
  {
   "cell_type": "markdown",
   "metadata": {},
   "source": [
    "Минимизируем наш функционал с помощью метода Ньютона:"
   ]
  },
  {
   "cell_type": "markdown",
   "metadata": {},
   "source": [
    "$$\\theta_{i+1} = \\theta_i  - H_i^{-1}\\cdot g_i\\\\$$"
   ]
  },
  {
   "cell_type": "markdown",
   "metadata": {},
   "source": [
    "Реализуем выбранный алгоритм"
   ]
  },
  {
   "cell_type": "code",
   "execution_count": 9,
   "metadata": {
    "collapsed": false
   },
   "outputs": [],
   "source": [
    "class LogisticRegression():\n",
    "    ''' Logistic regression with L2 regularization optimized by Newton method'''\n",
    "    \n",
    "    @staticmethod\n",
    "    def sigmoid(z):\n",
    "        '''sigmoid function'''\n",
    "        s =  1.0/(1.0 + math.exp(-z))\n",
    "        return s\n",
    "\n",
    "    def fit(self, X, Y=None, lmbd = 0.5):\n",
    "        self.x = np.array(X)\n",
    "        self.y = np.array(Y)\n",
    "        self.N = len(self.x)\n",
    "        self.Normalization = 1.0/self.N\n",
    "        self.N_theta = len(self.x[0])\n",
    "        self.theta = np.ones(self.N_theta)\n",
    "        self.tol = 0.00001\n",
    "        self.max_iter = 1000\n",
    "        self.thr = 0.5\n",
    "        self.lmbd = lmbd # параметр регуляризации\n",
    "        self.steps = self.Newton()\n",
    "        print \"Finished studing, made %d steps\"%(self.steps)\n",
    "        return self\n",
    "    \n",
    "    def sigmoid_results(self):\n",
    "        '''Expectation of a class for each x_i'''\n",
    "        return np.array(map(self.sigmoid,np.dot(self.x,self.theta)))\n",
    "    \n",
    "    def S(self):\n",
    "        p = self.sigmoid_results()\n",
    "        r = p*(1-p)\n",
    "        return np.diag(r)\n",
    "    \n",
    "    def Gradient(self):\n",
    "        p = self.sigmoid_results() \n",
    "        return self.Normalization * np.dot(self.x.T, p - self.y)  + self.lmbd * self.theta\n",
    "    \n",
    "    def Hessian(self):\n",
    "        return self.Normalization * np.dot(np.dot(self.x.T,self.S()),self.x) + self.lmbd * np.identity(self.N_theta)\n",
    "    \n",
    "    def Newton_step(self):        \n",
    "        return np.linalg.solve(self.Hessian(),self.Gradient())\n",
    "    \n",
    "    def Newton(self):\n",
    "        new_theta = np.zeros(self.N_theta)\n",
    "        counter = 0\n",
    "        while linalg.norm(self.theta - new_theta) > self.tol and counter < self.max_iter:\n",
    "            self.theta = new_theta\n",
    "            new_theta = self.theta - self.Newton_step()\n",
    "            counter += 1\n",
    "        return counter  \n",
    "    \n",
    "    def predict_proba(self, X):\n",
    "        return map(self.sigmoid,np.dot(X,self.theta.T))\n",
    "    \n",
    "    def predict(self, X):\n",
    "        m, n = X.shape\n",
    "        label = []\n",
    "    \n",
    "        probability = map(self.sigmoid,np.dot(X,self.theta.T))\n",
    "\n",
    "        for p in probability:\n",
    "            if p > self.thr:\n",
    "                label.append(1)\n",
    "            else:\n",
    "                label.append(0)\n",
    "        return label"
   ]
  },
  {
   "cell_type": "markdown",
   "metadata": {},
   "source": [
    "Реализуем метрику качества, используемую в соревновании: площадь под ROC кривой"
   ]
  },
  {
   "cell_type": "code",
   "execution_count": 10,
   "metadata": {
    "collapsed": false
   },
   "outputs": [],
   "source": [
    "def count_area(dy,dx,x,area,P,N,TPR,FPR):\n",
    "    TPR.append(dy/P)\n",
    "    TPR.append(dy/P) \n",
    "    FPR.append(x/N)\n",
    "    FPR.append(dx/N)\n",
    "    area += dy/P * (dx-x)/N\n",
    "    return area,TPR,FPR\n",
    "\n",
    "def roc_cur_points(y_prob, y_true):\n",
    "    P = len([i for i in y_true if i])\n",
    "    N = len([i for i in y_true if not i])\n",
    "    y = sorted([[y_prob[i], y_true[i]] for i in xrange(len(y_prob))], key=lambda y_i: y_i[0])[::-1]\n",
    "    TPR = [0]\n",
    "    FPR = [0]\n",
    "    \n",
    "    # посчитаем dx-s и dy-s\n",
    "    x  = 0.0\n",
    "    dx = 0.0\n",
    "    dy = 0.0\n",
    "    area = 0.0\n",
    "    flag = False\n",
    "    for y_i in y:\n",
    "        if y_i[1] == 1.0:\n",
    "            if flag:\n",
    "                area,TPR,FPR = count_area(dy,dx,x,area,P,N,TPR,FPR)\n",
    "                x = dx\n",
    "                flag = False\n",
    "            dy += 1\n",
    "        if y_i[1] == 0.0:\n",
    "            dx += 1\n",
    "            flag = True\n",
    "    \n",
    "    area,TPR,FPR = count_area(dy,dx,x,area,P,N,TPR,FPR)\n",
    "    return  TPR, FPR,area\n",
    "\n",
    "def auroc(y_prob, y_true):\n",
    "    return roc_cur_points(y_prob, y_true)[2]"
   ]
  },
  {
   "cell_type": "markdown",
   "metadata": {},
   "source": [
    "Разделим выборку с помощью методики кросс-валидации для того, чтобы настроить параметр регуляризации $C$"
   ]
  },
  {
   "cell_type": "code",
   "execution_count": 11,
   "metadata": {
    "collapsed": false
   },
   "outputs": [],
   "source": [
    "C = [0.0, 0.01, 0.1, 1, 10, 100, 1000, 10000]\n",
    "\n",
    "def select_reg_parameter(C, X, Y):\n",
    "    auroc_res = []\n",
    "    X_train, X_test, Y_train, Y_test = cv.train_test_split(X, Y, test_size=0.3, random_state=42)\n",
    "    for c in C:\n",
    "        print \"%lf -- test started\"%(c)\n",
    "        try:\n",
    "            auc = 0.0\n",
    "            Y_test_prob = LogisticRegression().fit(X_train, Y_train,c).predict_proba(X_test)\n",
    "            auc = auroc(Y_test_prob,Y_test)\n",
    "        except:\n",
    "            print \"Test faild, bad parametr\"\n",
    "        print auc\n",
    "        auroc_res.append(auc)\n",
    "    return auroc_res.index(max(auroc_res)),max(auroc_res)"
   ]
  },
  {
   "cell_type": "markdown",
   "metadata": {},
   "source": [
    "Для начала протестируем алгоритм на ирисах. "
   ]
  },
  {
   "cell_type": "code",
   "execution_count": 12,
   "metadata": {
    "collapsed": false
   },
   "outputs": [
    {
     "name": "stdout",
     "output_type": "stream",
     "text": [
      "0.000000 -- test started\n",
      "Test faild, bad parametr\n",
      "0.0\n",
      "0.010000 -- test started\n",
      "Finished studing, made 8 steps\n",
      "1.0\n",
      "0.100000 -- test started\n",
      "Finished studing, made 6 steps\n",
      "1.0\n",
      "1.000000 -- test started\n",
      "Finished studing, made 4 steps\n",
      "1.0\n",
      "10.000000 -- test started\n",
      "Finished studing, made 3 steps\n",
      "1.0\n",
      "100.000000 -- test started\n",
      "Finished studing, made 2 steps\n",
      "1.0\n",
      "1000.000000 -- test started\n",
      "Finished studing, made 2 steps\n",
      "1.0\n",
      "10000.000000 -- test started\n",
      "Finished studing, made 2 steps\n",
      "1.0\n",
      "Best lambda for iris is 0.010000 with auc = 1.000000\n"
     ]
    }
   ],
   "source": [
    "from sklearn.metrics import roc_curve, auc\n",
    "from sklearn import datasets\n",
    "\n",
    "iris = datasets.load_iris()\n",
    "LR_data = iris['data']\n",
    "iris['setosa_target'] = [int(i==0) for i in iris['target']]\n",
    "\n",
    "LR_X = LR_data\n",
    "LR_Y = iris['setosa_target']\n",
    "\n",
    "index_iris,auc_iris = select_reg_parameter(C,LR_X,LR_Y)\n",
    "print \"Best lambda for iris is %lf with auc = %lf\"%(C[index_iris], auc_iris)"
   ]
  },
  {
   "cell_type": "markdown",
   "metadata": {},
   "source": [
    "Проведём расчёты на реальных данных"
   ]
  },
  {
   "cell_type": "code",
   "execution_count": 13,
   "metadata": {
    "collapsed": false
   },
   "outputs": [
    {
     "name": "stdout",
     "output_type": "stream",
     "text": [
      "0.000000 -- test started\n",
      "Test faild, bad parametr\n",
      "0.0\n",
      "0.010000 -- test started\n",
      "Finished studing, made 9 steps\n",
      "0.558194935336\n",
      "0.100000 -- test started\n",
      "Finished studing, made 7 steps\n",
      "0.550774660615\n",
      "1.000000 -- test started\n",
      "Finished studing, made 6 steps\n",
      "0.522329855812\n",
      "10.000000 -- test started\n",
      "Finished studing, made 4 steps\n",
      "0.493956592899\n",
      "100.000000 -- test started\n",
      "Finished studing, made 3 steps\n",
      "0.488381345891\n",
      "1000.000000 -- test started\n",
      "Finished studing, made 2 steps\n",
      "0.490064463009\n",
      "10000.000000 -- test started\n",
      "Finished studing, made 2 steps\n",
      "0.490521327014\n",
      "Best lambda is 0.010000 with auc = 0.558195\n"
     ]
    }
   ],
   "source": [
    "index,auc = select_reg_parameter(C,X1,Y)\n",
    "print \"Best lambda is %lf with auc = %lf\"%(C[index], auc) "
   ]
  },
  {
   "cell_type": "markdown",
   "metadata": {},
   "source": [
    "Выбираем наилучшее значение $C$, и классифицируем неизвестных пользователей и строим ROC-кривую"
   ]
  },
  {
   "cell_type": "code",
   "execution_count": 14,
   "metadata": {
    "collapsed": false
   },
   "outputs": [
    {
     "name": "stdout",
     "output_type": "stream",
     "text": [
      "Finished studing, made 9 steps\n",
      "Area under the ROC curve : 0.558195\n"
     ]
    },
    {
     "data": {
      "image/png": "[encoded data removed]",
      "text/plain": [
       "<matplotlib.figure.Figure at 0x120a75ad0>"
      ]
     },
     "metadata": {},
     "output_type": "display_data"
    }
   ],
   "source": [
    "def classify(X, Y, test_size, C):\n",
    "    X_train, X_test, Y_train, Y_test = cv.train_test_split(X, Y, test_size=0.3, random_state=42)\n",
    "    Y_test_prob = LogisticRegression().fit(X_train, Y_train,C).predict_proba(X_test)\n",
    "    tpr, fpr, roc_auc = roc_cur_points(Y_test_prob,Y_test)\n",
    "    return tpr, fpr, roc_auc\n",
    "\n",
    "tpr, fpr, roc_auc = classify(X1, Y, 0.3, C[index])\n",
    "\n",
    "print \"Area under the ROC curve : %f\" % roc_auc\n",
    "\n",
    "def plot_roc_curve(tpr, fpr, roc_auc):\n",
    "    \"\"\"Plot ROC curve\"\"\"\n",
    "    # Your code here\n",
    "    plt.figure(figsize=(8, 8))\n",
    "    plt.fill_between(fpr, tpr, label='ROC curve (area = %0.2f)' % roc_auc, alpha=0.3)\n",
    "    plt.plot([0, 1], [0, 1], 'k--')\n",
    "    plt.xlim([0.0, 1.0])\n",
    "    plt.ylim([0.0, 1.0])\n",
    "    plt.xlabel('False Positive Rate')\n",
    "    plt.ylabel('True Positive Rate')\n",
    "    plt.show()    \n",
    "    return\n",
    "\n",
    "plot_roc_curve(tpr, fpr, roc_auc)"
   ]
  },
  {
   "cell_type": "markdown",
   "metadata": {},
   "source": [
    "С помощью полученной модели предсказываем категории для неизвестных пользователей из соревнования и загружаем на kaggle в нужном формате. ДЗ принимается только при наличии загруженных данных на kaggle."
   ]
  },
  {
   "cell_type": "code",
   "execution_count": 15,
   "metadata": {
    "collapsed": false
   },
   "outputs": [],
   "source": [
    "test_users = df_users_ex[\"uid\"].values\n",
    "ix2 = np.in1d(users, test_users).reshape(users.shape)\n",
    "X2 = X_dataset[np.where(ix2)]\n",
    "X3 = X2.tocsc()[:, features_counts > 100].toarray()"
   ]
  },
  {
   "cell_type": "code",
   "execution_count": 16,
   "metadata": {
    "collapsed": false
   },
   "outputs": [
    {
     "name": "stdout",
     "output_type": "stream",
     "text": [
      "Finished studing, made 9 steps\n"
     ]
    }
   ],
   "source": [
    "y_example = LogisticRegression().fit(X1, Y, C[index]).predict_proba(X3)"
   ]
  },
  {
   "cell_type": "code",
   "execution_count": 17,
   "metadata": {
    "collapsed": true
   },
   "outputs": [],
   "source": [
    "b = pd.DataFrame()\n",
    "b[\"uid\"] = test_users\n",
    "b[\"cls\"] = y_example\n",
    "b.to_csv(\"My_Submission.csv\",index = False)"
   ]
  }
 ],
 "metadata": {
  "kernelspec": {
   "display_name": "Python 2",
   "language": "python",
   "name": "python2"
  },
  "language_info": {
   "codemirror_mode": {
    "name": "ipython",
    "version": 2
   },
   "file_extension": ".py",
   "mimetype": "text/x-python",
   "name": "python",
   "nbconvert_exporter": "python",
   "pygments_lexer": "ipython2",
   "version": "2.7.11"
  }
 },
 "nbformat": 4,
 "nbformat_minor": 0
}
