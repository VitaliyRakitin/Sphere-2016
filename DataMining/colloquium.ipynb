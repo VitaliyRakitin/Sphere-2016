{
 "cells": [
  {
   "cell_type": "markdown",
   "metadata": {},
   "source": [
    "# Решение задачи коллоквиума\n",
    "*** Автор --- Ракитин Виталий, BD-11 ***"
   ]
  },
  {
   "cell_type": "markdown",
   "metadata": {},
   "source": [
    "** Задача № 6: **\n",
    "\n",
    "Пусть алгоритм, кластеризующий точки в многомерном Евклидовом пространстве оптимизирует критерий (k задано):\n",
    "<img src=\"summ.png\">\n",
    "Покажите, что такой алгоритм эквивалентен стандартному алгоритму k-means."
   ]
  },
  {
   "cell_type": "code",
   "execution_count": 1,
   "metadata": {
    "collapsed": false
   },
   "outputs": [
    {
     "name": "stdout",
     "output_type": "stream",
     "text": [
      "Populating the interactive namespace from numpy and matplotlib\n"
     ]
    }
   ],
   "source": [
    "import pylab as pl\n",
    "import numpy as np\n",
    "from sklearn.cluster import KMeans\n",
    "# Plotting config\n",
    "%pylab inline"
   ]
  },
  {
   "cell_type": "markdown",
   "metadata": {},
   "source": [
    "Покажем, что данное утверждение на самом-то деле неверно. Для этого рассмотрим следующее множество точек:"
   ]
  },
  {
   "cell_type": "code",
   "execution_count": 2,
   "metadata": {
    "collapsed": false
   },
   "outputs": [
    {
     "data": {
      "image/png": "[encoded data removed]",
      "text/plain": [
       "<matplotlib.figure.Figure at 0x10f1ffb10>"
      ]
     },
     "metadata": {},
     "output_type": "display_data"
    }
   ],
   "source": [
    "x = np.array([[1,1],[1,2],[1,3],[3,1],[3,2],[3,3],[4,1],[4,2],[4,3],[5,1],[5,2],[5,3]])\n",
    "\n",
    "def myplot(x,name=\"Plot\",color=None):\n",
    "    pl.figure(figsize=(10, 5))\n",
    "    pl.scatter(x[:, 0], x[:, 1],c = color,cmap=pl.cm.PuOr,lw=2, s=150)\n",
    "\n",
    "    plt.xlabel('x')\n",
    "    plt.ylabel('y')\n",
    "    plt.title(name)\n",
    "    pl.show()\n",
    "    \n",
    "myplot(x, \"Example points\")"
   ]
  },
  {
   "cell_type": "markdown",
   "metadata": {},
   "source": [
    "Кластеризуем наши точки с помочщью алгоритма k-means:"
   ]
  },
  {
   "cell_type": "code",
   "execution_count": 3,
   "metadata": {
    "collapsed": false
   },
   "outputs": [
    {
     "data": {
      "image/png": "[encoded data removed]",
      "text/plain": [
       "<matplotlib.figure.Figure at 0x10f1ffc10>"
      ]
     },
     "metadata": {},
     "output_type": "display_data"
    }
   ],
   "source": [
    "def make_color(y):\n",
    "    colors = [\"r\",\"b\"]\n",
    "    return [colors[i] for i in y]\n",
    "\n",
    "y_kmeans = KMeans(n_clusters=2).fit_predict(x)\n",
    "color = make_color(y_kmeans)\n",
    "myplot(x, \"KMeans result\",color)"
   ]
  },
  {
   "cell_type": "markdown",
   "metadata": {},
   "source": [
    "Результат ожидаем. А теперь минимизируем наш критерий на данной выборке \"в лоб\":"
   ]
  },
  {
   "cell_type": "code",
   "execution_count": 4,
   "metadata": {
    "collapsed": false
   },
   "outputs": [],
   "source": [
    "def criteria(x,y):\n",
    "    summ = 0\n",
    "    for i,c1 in enumerate(x):\n",
    "        for j,c2 in enumerate(x):\n",
    "            if y[i] == y[j]: #точки лежат в одном кластере\n",
    "                summ += np.linalg.norm(c1 - c2)**2\n",
    "    return 0.5 * summ\n",
    "\n",
    "\n",
    "def criteria_minimization():\n",
    "    minimum = inf\n",
    "    y_minimum = []\n",
    "    #всего 12 точек\n",
    "    for i1 in xrange(2): #1\n",
    "        for i2 in xrange(2): #2\n",
    "            for i3 in xrange(2): #3\n",
    "                for i4 in xrange(2): #4\n",
    "                    for i5 in xrange(2): #5\n",
    "                        for i6 in xrange(2): #6\n",
    "                            for i7 in xrange(2): #7\n",
    "                                for i8 in xrange(2): #8\n",
    "                                    for i9 in xrange(2): #9\n",
    "                                        for i10 in xrange(2): #10\n",
    "                                            for i11 in xrange(2): #11\n",
    "                                                for i12 in xrange(2): #12\n",
    "                                                    new_y = [i1,i2,i3,i4,i5,i6,i7,i8,i9,i10,i11,i12]\n",
    "                                                    pt = criteria(x,new_y)\n",
    "                                                    if pt < minimum:\n",
    "                                                        minimum = pt\n",
    "                                                        y_minimum = new_y\n",
    "    return minimum, y_minimum\n",
    "\n",
    "minimum, y_minimum = criteria_minimization()"
   ]
  },
  {
   "cell_type": "markdown",
   "metadata": {},
   "source": [
    "Сравним значения критерия для результата работы k-means и для \"идеальной\" выборки с точки зрения данного критерия, а так же наглядно посмотрим, как же распределены точки."
   ]
  },
  {
   "cell_type": "code",
   "execution_count": 5,
   "metadata": {
    "collapsed": false
   },
   "outputs": [
    {
     "name": "stdout",
     "output_type": "stream",
     "text": [
      "J_KMeans = 114.0 \n",
      "J_minimum = 93.0\n"
     ]
    }
   ],
   "source": [
    "print \"J_KMeans = {0} \\nJ_minimum = {1}\".format(criteria(x,y_kmeans),criteria(x,y_minimum))"
   ]
  },
  {
   "cell_type": "markdown",
   "metadata": {},
   "source": [
    "Очевидно видим, что минимальная сумма меньше. Посмотрим на результат кластеризации:"
   ]
  },
  {
   "cell_type": "code",
   "execution_count": 6,
   "metadata": {
    "collapsed": false
   },
   "outputs": [
    {
     "data": {
      "image/png": "[encoded data removed]",
      "text/plain": [
       "<matplotlib.figure.Figure at 0x1116b3bd0>"
      ]
     },
     "metadata": {},
     "output_type": "display_data"
    }
   ],
   "source": [
    "color = make_color(y_minimum)\n",
    "myplot(x, \"Critetria minimization result\",color)"
   ]
  },
  {
   "cell_type": "markdown",
   "metadata": {},
   "source": [
    "Результат кластеризации заметно отличается, и именно это позволяет нам утверждать о том, что такой алгоритм вовсе НЕ эквивалентен стандартному алгоритму k-means."
   ]
  }
 ],
 "metadata": {
  "kernelspec": {
   "display_name": "Python 2",
   "language": "python",
   "name": "python2"
  },
  "language_info": {
   "codemirror_mode": {
    "name": "ipython",
    "version": 2
   },
   "file_extension": ".py",
   "mimetype": "text/x-python",
   "name": "python",
   "nbconvert_exporter": "python",
   "pygments_lexer": "ipython2",
   "version": "2.7.11"
  }
 },
 "nbformat": 4,
 "nbformat_minor": 0
}
