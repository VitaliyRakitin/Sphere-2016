{
 "cells": [
  {
   "cell_type": "markdown",
   "metadata": {
    "collapsed": true
   },
   "source": [
    "# Домашняя работа по статистике\n",
    "*** Автор --- Ракитин Виталий, BD-11 ***"
   ]
  },
  {
   "cell_type": "code",
   "execution_count": 2,
   "metadata": {
    "collapsed": true
   },
   "outputs": [],
   "source": [
    "import numpy as np\n",
    "import pandas as pd\n",
    "import scipy.stats as stats\n",
    "import re\n",
    "from collections import defaultdict\n",
    "import pickle\n",
    "from statsmodels.distributions.empirical_distribution import ECDF\n",
    "import math\n",
    "\n",
    "%matplotlib inline\n",
    "import matplotlib.pyplot as plt"
   ]
  },
  {
   "cell_type": "markdown",
   "metadata": {},
   "source": [
    "1.Сформулируйте нулевые и альтернативные гипотезы и проведите следующие тесты:\n",
    "\n",
    "1.1 Одновыборочный параметрический тест\n",
    "\n",
    "1.2 Двухвыборочный параметрический и непараметрический тесты\n",
    "\n",
    "1.3 Параметрический и непараметрический тесты для парных наблюдений\n",
    "\n",
    "Из пяти перечисленных тестов как минимум два нужно сделать вручную (т.е. статистику для теста нужно посчитать самостоятельно, без использования готовой функции из пакета)\n",
    "\n",
    "2.Сформулируйте точную альтернативную гипотезу для одного из проведенных тестов и оцените мощность теста\n",
    "\n",
    "3.Рассматривая проведенные тесты как единую группу, сделайте поправку на множественное тестирование (FDR, Bonferroni, Sidak, Bonferroni-Holm). Изменились ли результаты?\n",
    "\n",
    "4.Постройте параметрические доверительные интервалы для среднего и непараметрические интервалы для медианы на основе бутстрепа\n",
    "\n",
    "Группы для тестов можно выделять по полям JobTitle, AgencyTitle.\n",
    "\n"
   ]
  },
  {
   "cell_type": "code",
   "execution_count": 3,
   "metadata": {
    "collapsed": false
   },
   "outputs": [
    {
     "data": {
      "text/html": [
       "<div>\n",
       "<table border=\"1\" class=\"dataframe\">\n",
       "  <thead>\n",
       "    <tr style=\"text-align: right;\">\n",
       "      <th></th>\n",
       "      <th>Unnamed: 0</th>\n",
       "      <th>Unnamed: 0.1</th>\n",
       "      <th>Agency</th>\n",
       "      <th>AgencyTitle</th>\n",
       "      <th>EmployeeName</th>\n",
       "      <th>JobTitle</th>\n",
       "      <th>Salary2010</th>\n",
       "      <th>Salary2011</th>\n",
       "      <th>Salary2012</th>\n",
       "      <th>Salary2013</th>\n",
       "    </tr>\n",
       "  </thead>\n",
       "  <tbody>\n",
       "    <tr>\n",
       "      <th>0</th>\n",
       "      <td>2</td>\n",
       "      <td>10</td>\n",
       "      <td>165</td>\n",
       "      <td>Accountancy</td>\n",
       "      <td>JOLICOEUR, EDWIN G</td>\n",
       "      <td>BOARD MEMBER</td>\n",
       "      <td>750</td>\n",
       "      <td>950</td>\n",
       "      <td>450</td>\n",
       "      <td>300</td>\n",
       "    </tr>\n",
       "    <tr>\n",
       "      <th>1</th>\n",
       "      <td>5</td>\n",
       "      <td>36</td>\n",
       "      <td>165</td>\n",
       "      <td>Accountancy</td>\n",
       "      <td>SWEENEY, RICK</td>\n",
       "      <td>EXEC. DIRECTOR</td>\n",
       "      <td>92573</td>\n",
       "      <td>91078</td>\n",
       "      <td>91536</td>\n",
       "      <td>92952</td>\n",
       "    </tr>\n",
       "    <tr>\n",
       "      <th>2</th>\n",
       "      <td>6</td>\n",
       "      <td>44</td>\n",
       "      <td>35</td>\n",
       "      <td>Actuary</td>\n",
       "      <td>BURKHART, KELLY RAE</td>\n",
       "      <td>ADMINISTRATIVE SERVICES MANAGER</td>\n",
       "      <td>78905</td>\n",
       "      <td>77458</td>\n",
       "      <td>76560</td>\n",
       "      <td>78726</td>\n",
       "    </tr>\n",
       "    <tr>\n",
       "      <th>3</th>\n",
       "      <td>7</td>\n",
       "      <td>45</td>\n",
       "      <td>35</td>\n",
       "      <td>Actuary</td>\n",
       "      <td>DEMPSEY, TROY A</td>\n",
       "      <td>SENIOR ACTUARIAL ANALYST</td>\n",
       "      <td>81542</td>\n",
       "      <td>86883</td>\n",
       "      <td>105468</td>\n",
       "      <td>66491</td>\n",
       "    </tr>\n",
       "    <tr>\n",
       "      <th>4</th>\n",
       "      <td>8</td>\n",
       "      <td>47</td>\n",
       "      <td>35</td>\n",
       "      <td>Actuary</td>\n",
       "      <td>GUTIERREZ, AARON</td>\n",
       "      <td>POLICY ANALYST</td>\n",
       "      <td>69468</td>\n",
       "      <td>68703</td>\n",
       "      <td>67656</td>\n",
       "      <td>69570</td>\n",
       "    </tr>\n",
       "  </tbody>\n",
       "</table>\n",
       "</div>"
      ],
      "text/plain": [
       "   Unnamed: 0  Unnamed: 0.1  Agency  AgencyTitle         EmployeeName  \\\n",
       "0           2            10     165  Accountancy   JOLICOEUR, EDWIN G   \n",
       "1           5            36     165  Accountancy        SWEENEY, RICK   \n",
       "2           6            44      35      Actuary  BURKHART, KELLY RAE   \n",
       "3           7            45      35      Actuary      DEMPSEY, TROY A   \n",
       "4           8            47      35      Actuary     GUTIERREZ, AARON   \n",
       "\n",
       "                          JobTitle  Salary2010  Salary2011  Salary2012  \\\n",
       "0                     BOARD MEMBER         750         950         450   \n",
       "1                   EXEC. DIRECTOR       92573       91078       91536   \n",
       "2  ADMINISTRATIVE SERVICES MANAGER       78905       77458       76560   \n",
       "3         SENIOR ACTUARIAL ANALYST       81542       86883      105468   \n",
       "4                   POLICY ANALYST       69468       68703       67656   \n",
       "\n",
       "   Salary2013  \n",
       "0         300  \n",
       "1       92952  \n",
       "2       78726  \n",
       "3       66491  \n",
       "4       69570  "
      ]
     },
     "execution_count": 3,
     "metadata": {},
     "output_type": "execute_result"
    }
   ],
   "source": [
    "data = pd.read_csv('salaries.csv', sep=',')\n",
    "data.head()"
   ]
  },
  {
   "cell_type": "markdown",
   "metadata": {},
   "source": [
    "# 1.1 Одновыборочный параметрический тест"
   ]
  },
  {
   "cell_type": "markdown",
   "metadata": {},
   "source": [
    "На основе наших данных найдём среднюю зарплату за 2010 год. Далее, с помощью критерия Стьюдента проверим, как соотносится полученное среднее $\\mu$ с выборочным средним по агенству \"Labor and Industries\" $\\mu_{0}$\n",
    "\n",
    "$$H_{0}: \\mu_{0} = \\mu \\\\ H_{1}: \\mu_{0} \\not= \\mu$$"
   ]
  },
  {
   "cell_type": "code",
   "execution_count": 12,
   "metadata": {
    "collapsed": false
   },
   "outputs": [],
   "source": [
    "data_LaI = data[data['AgencyTitle'].isin(['Labor and Industries'])]\n",
    "data_LaI_salary = data_LaI.Salary2010\n",
    "data_salary = data.Salary2010"
   ]
  },
  {
   "cell_type": "markdown",
   "metadata": {},
   "source": [
    "Посмотрим, как выглядят наши распределения"
   ]
  },
  {
   "cell_type": "code",
   "execution_count": 13,
   "metadata": {
    "collapsed": false
   },
   "outputs": [
    {
     "data": {
      "text/plain": [
       "<matplotlib.text.Text at 0x119b1dcd0>"
      ]
     },
     "execution_count": 13,
     "metadata": {},
     "output_type": "execute_result"
    },
    {
     "data": {
      "image/png": "[encoded data removed]",
      "text/plain": [
       "<matplotlib.figure.Figure at 0x115e423d0>"
      ]
     },
     "metadata": {},
     "output_type": "display_data"
    }
   ],
   "source": [
    "plt.figure(figsize=(7, 7))\n",
    "plt.subplot(2,1, 1)\n",
    "plt.hist(data_salary, bins=int(np.sqrt(len(data_salary)))/2)\n",
    "plt.title(\"Full data\")\n",
    "plt.subplot(2,1, 2)\n",
    "plt.hist(data_LaI_salary, bins=int(np.sqrt(len(data_LaI_salary)))/2)\n",
    "plt.title(\"Labor and Industries\")"
   ]
  },
  {
   "cell_type": "markdown",
   "metadata": {},
   "source": [
    "По графикам видно, что верна гипотеза $H_1$, проверим:"
   ]
  },
  {
   "cell_type": "markdown",
   "metadata": {},
   "source": [
    "$$ t=\\frac{\\bar X-\\mu}{\\frac{s_{X}}{\\sqrt{n}}},\\\\s^{2}_{X}=\\frac{1}{n-1}\\sum\\limits^{n}_{t=1}(X_{t}-\\bar X)^{2}$$"
   ]
  },
  {
   "cell_type": "code",
   "execution_count": 14,
   "metadata": {
    "collapsed": true
   },
   "outputs": [],
   "source": [
    "def s2(x):\n",
    "    s = 0.0\n",
    "    mu = x.mean()\n",
    "    for elem in x:\n",
    "        s += (elem - mu)**2\n",
    "    return s/(len(x)-1)\n",
    "\n",
    "def student(x,mu):\n",
    "    mu0 = x.mean()\n",
    "    return (mu0-mu)/math.sqrt(s2(x)/len(x))"
   ]
  },
  {
   "cell_type": "code",
   "execution_count": 15,
   "metadata": {
    "collapsed": false
   },
   "outputs": [],
   "source": [
    "statistic = student(data_LaI_salary, data_salary.mean())"
   ]
  },
  {
   "cell_type": "code",
   "execution_count": 16,
   "metadata": {
    "collapsed": false
   },
   "outputs": [],
   "source": [
    "single_student = stats.ttest_1samp(data_LaI_salary, data_salary.mean()).pvalue"
   ]
  },
  {
   "cell_type": "markdown",
   "metadata": {},
   "source": [
    "При нулевой гипотезе распределение этой статистики t(n-1). Следовательно, при превышении значения статистики по абсолютной величине критического значения данного распределения нулевая гипотеза отвергается.\n",
    "\n",
    "Зададим уровень значимость $\\alpha = 0.05$ и найдём критическое значение:"
   ]
  },
  {
   "cell_type": "code",
   "execution_count": 17,
   "metadata": {
    "collapsed": false
   },
   "outputs": [
    {
     "name": "stdout",
     "output_type": "stream",
     "text": [
      "1.64628430452\n",
      "4.65600040284\n"
     ]
    }
   ],
   "source": [
    "critical = stats.t.isf(0.05,len(data_LaI_salary)-1)\n",
    "print critical\n",
    "print statistic"
   ]
  },
  {
   "cell_type": "code",
   "execution_count": 18,
   "metadata": {
    "collapsed": false
   },
   "outputs": [
    {
     "name": "stdout",
     "output_type": "stream",
     "text": [
      "Гипотеза H_0 --- отвергается\n"
     ]
    }
   ],
   "source": [
    "if abs(statistic) > critical:\n",
    "    print \"Гипотеза H_0 --- отвергается\"\n",
    "else:\n",
    "    print \"Гипотеза H_0 --- не отвергается\""
   ]
  },
  {
   "cell_type": "markdown",
   "metadata": {},
   "source": [
    "Таким образом наше предположение $H_0$ --- не верно, поэтому принимаем гипотезу $H_1$: среднее значение зарплат по всем агенствам отличается от выборочного среднего по агенству \"Labor and Industries\""
   ]
  },
  {
   "cell_type": "markdown",
   "metadata": {},
   "source": [
    "# 1.2.1 Двухвыборочный параметрический тест"
   ]
  },
  {
   "cell_type": "markdown",
   "metadata": {},
   "source": [
    "Предположим, что расспределение зарплат за 2010 и 2013 годы у агенства Social and Health Services не изменилось. Таким образом \n",
    "$$ H_0: \\mu_{2010} = \\mu_{2013} \\\\ H_1: \\mu_{2010} \\not= \\mu_{2013}$$"
   ]
  },
  {
   "cell_type": "code",
   "execution_count": 19,
   "metadata": {
    "collapsed": true
   },
   "outputs": [],
   "source": [
    "data_social = data[data['AgencyTitle'].isin(['Social and Health Services'])]\n",
    "data_social_2010 = data_social.Salary2010\n",
    "data_social_2013 = data_social.Salary2013"
   ]
  },
  {
   "cell_type": "markdown",
   "metadata": {},
   "source": [
    "Посмотрим на, то как выглядят распределения:"
   ]
  },
  {
   "cell_type": "code",
   "execution_count": 20,
   "metadata": {
    "collapsed": false
   },
   "outputs": [
    {
     "data": {
      "text/plain": [
       "<matplotlib.text.Text at 0x11a00fa90>"
      ]
     },
     "execution_count": 20,
     "metadata": {},
     "output_type": "execute_result"
    },
    {
     "data": {
      "image/png": "[encoded data removed]",
      "text/plain": [
       "<matplotlib.figure.Figure at 0x115a72350>"
      ]
     },
     "metadata": {},
     "output_type": "display_data"
    }
   ],
   "source": [
    "plt.figure(figsize=(7, 7))\n",
    "plt.subplot(2,1, 1)\n",
    "plt.hist(data_social_2010, bins=int(np.sqrt(len(data_social_2010)))/2)\n",
    "plt.title(\"2010\")\n",
    "plt.subplot(2,1, 2)\n",
    "plt.hist(data_social_2013, bins=int(np.sqrt(len(data_social_2013)))/2)\n",
    "plt.title(\"2013\")"
   ]
  },
  {
   "cell_type": "code",
   "execution_count": 21,
   "metadata": {
    "collapsed": false
   },
   "outputs": [
    {
     "name": "stdout",
     "output_type": "stream",
     "text": [
      "mu_2010 = 45979.80, mu_2013 = 45399.55\n"
     ]
    }
   ],
   "source": [
    "mu2010 = data_social_2010.mean()\n",
    "mu2013 = data_social_2013.mean()\n",
    "print \"mu_2010 = %.02lf, mu_2013 = %.02lf\"%(mu2010,mu2013)"
   ]
  },
  {
   "cell_type": "markdown",
   "metadata": {},
   "source": [
    "Для оценки воспользуемся критерием Стьюдента для двух независимых выборок."
   ]
  },
  {
   "cell_type": "markdown",
   "metadata": {},
   "source": [
    "$$ t=\\frac{\\bar{X}_{1}-\\bar{X}_{2}}{\\sqrt{\\frac{s_{1}^2}{n_1} + \\frac{s_{2}^2}{n_2}}}\n",
    "\\\\s^{2}_{X}=\\frac{1}{n-1}\\sum\\limits^{n}_{t=1}(X_{t}-\\bar X)^{2}$$"
   ]
  },
  {
   "cell_type": "code",
   "execution_count": 22,
   "metadata": {
    "collapsed": true
   },
   "outputs": [],
   "source": [
    "def student2(x1,x2):\n",
    "    numerator = x1.mean() - x2.mean()\n",
    "    denominator = math.sqrt(s2(x1)/len(x1) + s2(x2)/len(x2))\n",
    "    return numerator/denominator"
   ]
  },
  {
   "cell_type": "code",
   "execution_count": 23,
   "metadata": {
    "collapsed": false
   },
   "outputs": [],
   "source": [
    "statistic2 = student2(data_social_2010,data_social_2013)"
   ]
  },
  {
   "cell_type": "code",
   "execution_count": 24,
   "metadata": {
    "collapsed": true
   },
   "outputs": [],
   "source": [
    "double_student = stats.ttest_ind(data_social_2010,data_social_2013).pvalue"
   ]
  },
  {
   "cell_type": "markdown",
   "metadata": {},
   "source": [
    "Эта статистика при справедливости нулевой гипотезы имеет распределение t(df):"
   ]
  },
  {
   "cell_type": "markdown",
   "metadata": {},
   "source": [
    "$$df = \\frac{\\left(\\frac{s_1^2}{n_1} +\\frac{s_2^2}{n_2} \\right)^2}{\\frac{\\left(\\frac{s_1^2}{n_1}\\right)^2}{n_1-1} + \\frac{\\left(\\frac{s_2^2}{n_2}\\right)^2}{n_2-1} }$$"
   ]
  },
  {
   "cell_type": "code",
   "execution_count": 25,
   "metadata": {
    "collapsed": true
   },
   "outputs": [],
   "source": [
    "def count_df(x1,x2):\n",
    "    s_1 = s2(x1)\n",
    "    s_2 = s2(x2)\n",
    "    n_1 = len(x1)\n",
    "    n_2 = len(x2)\n",
    "    numerator = (s_1/n_1 + s_2/n_2)**2\n",
    "    denominator = ((s_1/n_1)**2)/(n_1-1) +  ((s_2/n_2)**2)/(n_1-1)\n",
    "    return int(numerator/denominator)"
   ]
  },
  {
   "cell_type": "code",
   "execution_count": 26,
   "metadata": {
    "collapsed": false
   },
   "outputs": [],
   "source": [
    "df = count_df(data_social_2010,data_social_2013)"
   ]
  },
  {
   "cell_type": "markdown",
   "metadata": {},
   "source": [
    "Найдём критическое значение распределения Стьюдента для доверительного значения $\\alpha = 0.05$ для нашей системы:"
   ]
  },
  {
   "cell_type": "code",
   "execution_count": 27,
   "metadata": {
    "collapsed": false
   },
   "outputs": [],
   "source": [
    "critical2 = stats.t.isf(0.05,df)"
   ]
  },
  {
   "cell_type": "code",
   "execution_count": 28,
   "metadata": {
    "collapsed": false
   },
   "outputs": [
    {
     "name": "stdout",
     "output_type": "stream",
     "text": [
      "Гипотеза H_0 --- не отвергается\n"
     ]
    }
   ],
   "source": [
    "if abs(statistic2) > critical2:\n",
    "    print \"Гипотеза H_0 --- отвергается\"\n",
    "else:\n",
    "    print \"Гипотеза H_0 --- не отвергается\""
   ]
  },
  {
   "cell_type": "markdown",
   "metadata": {},
   "source": [
    "Таким образом можем сказать, что распределение зарплат за 2010 и 2013 годы у агенства Social and Health Services не изменилось, что также видно на графиках. "
   ]
  },
  {
   "cell_type": "markdown",
   "metadata": {},
   "source": [
    "# 1.2.2 Двухвыборочный непараметрический тест"
   ]
  },
  {
   "cell_type": "markdown",
   "metadata": {},
   "source": [
    "С помощью критерия Пирсона проверим, коррелируют ли зарплаты для Western Washington University в 2010 и 2013 годах:\n",
    "\n",
    "$H_0:$ -- не коррелируют, $H_1$ --- коррелируют"
   ]
  },
  {
   "cell_type": "code",
   "execution_count": 29,
   "metadata": {
    "collapsed": true
   },
   "outputs": [],
   "source": [
    "data_WWU = data[data['AgencyTitle'].isin(['Western Washington University'])]\n",
    "data_WWU_2010 = data_WWU.Salary2010\n",
    "data_WWU_2013 = data_WWU.Salary2013"
   ]
  },
  {
   "cell_type": "code",
   "execution_count": 33,
   "metadata": {
    "collapsed": false
   },
   "outputs": [
    {
     "data": {
      "text/plain": [
       "<matplotlib.text.Text at 0x11a7ecc10>"
      ]
     },
     "execution_count": 33,
     "metadata": {},
     "output_type": "execute_result"
    },
    {
     "data": {
      "image/png": "[encoded data removed]",
      "text/plain": [
       "<matplotlib.figure.Figure at 0x115a51f50>"
      ]
     },
     "metadata": {},
     "output_type": "display_data"
    }
   ],
   "source": [
    "plt.figure(figsize=(7, 7))\n",
    "plt.subplot(2,1, 1)\n",
    "plt.hist(data_WWU_2010, bins=int(np.sqrt(len(data_WWU_2010))))\n",
    "plt.title(\"2010\")\n",
    "plt.subplot(2,1, 2)\n",
    "plt.hist(data_WWU_2013, bins=int(np.sqrt(len(data_WWU_2013))))\n",
    "plt.title(\"2013\")"
   ]
  },
  {
   "cell_type": "code",
   "execution_count": 35,
   "metadata": {
    "collapsed": false
   },
   "outputs": [
    {
     "name": "stdout",
     "output_type": "stream",
     "text": [
      "0.0\n"
     ]
    }
   ],
   "source": [
    "pearsonr = stats.pearsonr(data_WWU_2010,data_WWU_2013)[1]\n",
    "print pearsonr"
   ]
  },
  {
   "cell_type": "markdown",
   "metadata": {},
   "source": [
    "Таким образом явно видно, что зарплаты в 2013 году зависят от зарплат в 2010, гипотеза $H_0$ отвергается."
   ]
  },
  {
   "cell_type": "markdown",
   "metadata": {},
   "source": [
    "# 1.3.1 Параметрический тест для парных наблюдений"
   ]
  },
  {
   "cell_type": "markdown",
   "metadata": {},
   "source": [
    "Предположим, что расспределение зарплат за 2010 и 2013 годы у агенства University of Washington не изменилось. Таким образом \n",
    "$$ H_0: \\mu_{2010} = \\mu_{2013} \\\\ H_1: \\mu_{2010} \\not= \\mu_{2013}$$"
   ]
  },
  {
   "cell_type": "code",
   "execution_count": 36,
   "metadata": {
    "collapsed": true
   },
   "outputs": [],
   "source": [
    "data_uni = data[data['AgencyTitle'].isin(['University of Washington'])]\n",
    "data_uni_2010 = data_uni.Salary2010\n",
    "data_uni_2013 = data_uni.Salary2013"
   ]
  },
  {
   "cell_type": "code",
   "execution_count": 38,
   "metadata": {
    "collapsed": false
   },
   "outputs": [
    {
     "data": {
      "text/plain": [
       "<matplotlib.text.Text at 0x11c052390>"
      ]
     },
     "execution_count": 38,
     "metadata": {},
     "output_type": "execute_result"
    },
    {
     "data": {
      "image/png": "[encoded data removed]",
      "text/plain": [
       "<matplotlib.figure.Figure at 0x11b5b2a50>"
      ]
     },
     "metadata": {},
     "output_type": "display_data"
    }
   ],
   "source": [
    "plt.figure(figsize=(7, 7))\n",
    "plt.subplot(2,1, 1)\n",
    "plt.hist(data_uni_2010, bins=int(np.sqrt(len(data_uni_2010))))\n",
    "plt.title(\"2010\")\n",
    "plt.subplot(2,1, 2)\n",
    "plt.hist(data_uni_2013, bins=int(np.sqrt(len(data_uni_2013))))\n",
    "plt.title(\"2013\")"
   ]
  },
  {
   "cell_type": "code",
   "execution_count": 39,
   "metadata": {
    "collapsed": true
   },
   "outputs": [],
   "source": [
    "def student_par(x1,x2):\n",
    "    x = np.array(x1) - np.array(x2)\n",
    "    numerator = x.mean()\n",
    "    denominator = math.sqrt(s2(x)/len(x))\n",
    "    return numerator/denominator"
   ]
  },
  {
   "cell_type": "code",
   "execution_count": 40,
   "metadata": {
    "collapsed": false
   },
   "outputs": [],
   "source": [
    "statistic_par = student_par(data_uni_2010,data_uni_2013)"
   ]
  },
  {
   "cell_type": "code",
   "execution_count": 41,
   "metadata": {
    "collapsed": true
   },
   "outputs": [],
   "source": [
    "student_par = stats.ttest_ind(data_uni_2010,data_uni_2013).pvalue"
   ]
  },
  {
   "cell_type": "markdown",
   "metadata": {},
   "source": [
    "Найдём критическое значение распределения Стьюдента для доверительного значения $\\alpha = 0.05$ для нашей системы:"
   ]
  },
  {
   "cell_type": "code",
   "execution_count": 42,
   "metadata": {
    "collapsed": false
   },
   "outputs": [],
   "source": [
    "critical2 = stats.t.isf(0.05,len(data_uni_2010)-1)"
   ]
  },
  {
   "cell_type": "code",
   "execution_count": 43,
   "metadata": {
    "collapsed": false
   },
   "outputs": [
    {
     "name": "stdout",
     "output_type": "stream",
     "text": [
      "Гипотеза H_0 --- отвергается\n"
     ]
    }
   ],
   "source": [
    "if abs(statistic_par) > critical2:\n",
    "    print \"Гипотеза H_0 --- отвергается\"\n",
    "else:\n",
    "    print \"Гипотеза H_0 --- не отвергается\""
   ]
  },
  {
   "cell_type": "markdown",
   "metadata": {},
   "source": [
    "Таким образом можем сказать, что распределение зарплат за 2010 и 2013 годы у агенства University of Washington заметно изменилось, что также видно на графиках."
   ]
  },
  {
   "cell_type": "markdown",
   "metadata": {},
   "source": [
    "# 1.3.2 Непараметрический тест для парных наблюдений"
   ]
  },
  {
   "cell_type": "markdown",
   "metadata": {},
   "source": [
    "А теперь проведём исследование гипотез $H_0$ и $H_1$ из пункта 1.3.1 с помощью непараметрического Т-критерия Вилкоксона:"
   ]
  },
  {
   "cell_type": "code",
   "execution_count": 44,
   "metadata": {
    "collapsed": false
   },
   "outputs": [
    {
     "name": "stdout",
     "output_type": "stream",
     "text": [
      "P_value = 0.00\n"
     ]
    }
   ],
   "source": [
    "wilcoxon = stats.wilcoxon(data_uni_2010,data_uni_2013).pvalue\n",
    "print \"P_value = %0.2lf\"%(wilcoxon)"
   ]
  },
  {
   "cell_type": "markdown",
   "metadata": {},
   "source": [
    "Данный тест снова подтвердил, что распределение зарплат за 2010 и 2013 у агенства University of Washington  изменилось."
   ]
  },
  {
   "cell_type": "markdown",
   "metadata": {},
   "source": [
    "# 2  Мощность теста\n",
    "\n"
   ]
  },
  {
   "cell_type": "markdown",
   "metadata": {},
   "source": [
    "2 Сформулируйте точную альтернативную гипотезу для одного из проведенных тестов и оцените мощность теста\n",
    "\n",
    "\n",
    "Как и везде ранее, установим уровень значимости $\\alpha = 0.05$. \n",
    "\n",
    "Вычислим, сколько нужно минимально единиц в выборке, чтобы можно было принять или не принять гипотезу $H_{0}$ (пусть это будет гипотеза, что среднее меньше или равно некоторого наперёд заданного значения).\n",
    "\n",
    "Рассмотрим тест 1.1"
   ]
  },
  {
   "cell_type": "code",
   "execution_count": 48,
   "metadata": {
    "collapsed": false
   },
   "outputs": [
    {
     "name": "stdout",
     "output_type": "stream",
     "text": [
      "minimum quantity in relisation 532.663460144 in our test 1067\n"
     ]
    },
    {
     "data": {
      "text/plain": [
       "0.99869868493255509"
      ]
     },
     "execution_count": 48,
     "metadata": {},
     "output_type": "execute_result"
    }
   ],
   "source": [
    "def t_test_power(dataframe, mu0):\n",
    "    mu = dataframe.mean()\n",
    "    n = len(dataframe)\n",
    "    SX = 0.0\n",
    "    for value in dataframe.iteritems():\n",
    "        SX+=(value[1]-mu)**2/(n-1)\n",
    "    n_min = SX * np.power(stats.norm.ppf(0.95)+stats.norm.ppf(0.95), 2)/float((mu-mu0)**2)\n",
    "    print \"minimum quantity in relisation\", n_min, \"in our test\", n\n",
    "    bar_x = mu0+stats.norm.ppf(0.95)*(np.sqrt(SX/n))\n",
    "    power = 1 - stats.norm.cdf((bar_x-mu)/(np.sqrt(SX/n)))\n",
    "    return power\n",
    "\n",
    "t_test_power(data_LaI_salary, data_salary.mean())"
   ]
  },
  {
   "cell_type": "markdown",
   "metadata": {},
   "source": [
    "# 3. Прицип Бонферрони"
   ]
  },
  {
   "cell_type": "markdown",
   "metadata": {},
   "source": [
    "Метод достаточно прост: мы рассчитываем p-value для каждой гипотезы в отдельности и отвергаем \"глобальную\" нулевую гипотезу только в том случае, если минимальное p-value меньше чем $\\alpha /n$."
   ]
  },
  {
   "cell_type": "markdown",
   "metadata": {},
   "source": [
    "Всего у нас было 5 тестов:"
   ]
  },
  {
   "cell_type": "code",
   "execution_count": 49,
   "metadata": {
    "collapsed": false
   },
   "outputs": [
    {
     "name": "stdout",
     "output_type": "stream",
     "text": [
      "0.0\n"
     ]
    }
   ],
   "source": [
    "tests_pval = (single_student, double_student, pearsonr, student_par,wilcoxon)\n",
    "print min(tests_pval)"
   ]
  },
  {
   "cell_type": "markdown",
   "metadata": {},
   "source": [
    "Таким образом гллбальную гипотезу мы можем сразу отвергнуть."
   ]
  },
  {
   "cell_type": "markdown",
   "metadata": {},
   "source": [
    "Поправка на принцип Бонферрони:"
   ]
  },
  {
   "cell_type": "code",
   "execution_count": 50,
   "metadata": {
    "collapsed": false
   },
   "outputs": [
    {
     "name": "stdout",
     "output_type": "stream",
     "text": [
      "0 отвергается\n",
      "1 принимается\n",
      "2 отвергается\n",
      "3 отвергается\n",
      "4 отвергается\n"
     ]
    }
   ],
   "source": [
    "for index,i in enumerate(tests_pval):\n",
    "    if i < 0.01:\n",
    "        print str(index) + \" отвергается\"\n",
    "    else:\n",
    "        print str(index) + \" принимается\""
   ]
  },
  {
   "cell_type": "markdown",
   "metadata": {},
   "source": [
    "Таким образом в результате поправки ничего не изменилось."
   ]
  },
  {
   "cell_type": "markdown",
   "metadata": {},
   "source": [
    "# 4. Bootstrap"
   ]
  },
  {
   "cell_type": "code",
   "execution_count": 51,
   "metadata": {
    "collapsed": false
   },
   "outputs": [],
   "source": [
    "from sklearn.utils import resample\n",
    "\n",
    "median_initial = np.median(data_salary)\n",
    "\n",
    "errs = []\n",
    "for i in xrange(1000):\n",
    "    errs.append(median_initial-resample(data_salary, replace=True).median())\n",
    "    \n",
    "a = np.percentile(np.sort(errs), 95)\n",
    "b = np.percentile(np.sort(errs), 5)"
   ]
  },
  {
   "cell_type": "code",
   "execution_count": 52,
   "metadata": {
    "collapsed": false
   },
   "outputs": [
    {
     "name": "stdout",
     "output_type": "stream",
     "text": [
      "[-294.02500000000003, 193.02499999999998]\n"
     ]
    }
   ],
   "source": [
    "print [b,a]"
   ]
  },
  {
   "cell_type": "code",
   "execution_count": 53,
   "metadata": {
    "collapsed": false
   },
   "outputs": [],
   "source": [
    "mean_initial = np.mean(data_salary)\n",
    "\n",
    "errs = []\n",
    "for i in xrange(1000):\n",
    "    errs.append(mean_initial-resample(data_salary, replace=True).mean())\n",
    "    \n",
    "a = np.percentile(np.sort(errs), 95)\n",
    "b = np.percentile(np.sort(errs), 5)"
   ]
  },
  {
   "cell_type": "code",
   "execution_count": 54,
   "metadata": {
    "collapsed": false
   },
   "outputs": [
    {
     "name": "stdout",
     "output_type": "stream",
     "text": [
      "[-261.86574747397134, 225.8688208052709]\n"
     ]
    }
   ],
   "source": [
    "print [b,a]"
   ]
  }
 ],
 "metadata": {
  "kernelspec": {
   "display_name": "Python 2",
   "language": "python",
   "name": "python2"
  },
  "language_info": {
   "codemirror_mode": {
    "name": "ipython",
    "version": 2
   },
   "file_extension": ".py",
   "mimetype": "text/x-python",
   "name": "python",
   "nbconvert_exporter": "python",
   "pygments_lexer": "ipython2",
   "version": "2.7.11"
  }
 },
 "nbformat": 4,
 "nbformat_minor": 0
}
